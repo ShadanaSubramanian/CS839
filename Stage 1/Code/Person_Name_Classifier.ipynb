{
 "cells": [
  {
   "cell_type": "code",
   "execution_count": 21,
   "metadata": {},
   "outputs": [],
   "source": [
    "import pandas as pd\n",
    "import numpy as np\n",
    "from sklearn.linear_model import LogisticRegression, LinearRegression\n",
    "from sklearn import svm\n",
    "from sklearn import tree\n",
    "from sklearn.metrics import precision_recall_fscore_support\n",
    "from sklearn.model_selection import StratifiedKFold\n",
    "from sklearn.ensemble import RandomForestClassifier\n",
    "trainfile = \"trainSet.csv\"\n",
    "testfile = \"testSet.csv\"\n",
    "df = pd.read_csv(trainfile)\n",
    "tdf = pd.read_csv(testfile)\n",
    "n_splits = 10\n",
    "skf = StratifiedKFold(n_splits, random_state=1)\n",
    "del df['input']\n",
    "del tdf['input']\n",
    "del df['length']\n",
    "del tdf['length']\n"
   ]
  },
  {
   "cell_type": "markdown",
   "metadata": {},
   "source": [
    "#Getting the Test and Train data\n",
    "#Doing a 10 fold split using StratifiedKFold"
   ]
  },
  {
   "cell_type": "code",
   "execution_count": 22,
   "metadata": {},
   "outputs": [
    {
     "data": {
      "text/plain": [
       "10"
      ]
     },
     "execution_count": 22,
     "metadata": {},
     "output_type": "execute_result"
    }
   ],
   "source": [
    "y_col = 'person'\n",
    "target = df[y_col].values\n",
    "test_target = tdf[y_col].values\n",
    "del df[y_col]\n",
    "del tdf[y_col]\n",
    "train_data = df.values\n",
    "test_data = tdf.values\n",
    "skf.get_n_splits(df, target)"
   ]
  },
  {
   "cell_type": "markdown",
   "metadata": {},
   "source": [
    "#Training Data:"
   ]
  },
  {
   "cell_type": "code",
   "execution_count": 23,
   "metadata": {},
   "outputs": [
    {
     "name": "stdout",
     "output_type": "stream",
     "text": [
      "[[0 0 0 ... 0 0 0]\n",
      " [0 0 0 ... 0 0 0]\n",
      " [0 0 0 ... 0 0 0]\n",
      " ...\n",
      " [0 0 1 ... 0 0 0]\n",
      " [0 0 0 ... 0 0 0]\n",
      " [0 0 0 ... 0 0 0]]\n"
     ]
    }
   ],
   "source": [
    "print(train_data)"
   ]
  },
  {
   "cell_type": "markdown",
   "metadata": {},
   "source": [
    "#Train_Label_data"
   ]
  },
  {
   "cell_type": "code",
   "execution_count": 24,
   "metadata": {},
   "outputs": [
    {
     "data": {
      "text/plain": [
       "array([0, 0, 0, ..., 0, 0, 0])"
      ]
     },
     "execution_count": 24,
     "metadata": {},
     "output_type": "execute_result"
    }
   ],
   "source": [
    "target"
   ]
  },
  {
   "cell_type": "markdown",
   "metadata": {},
   "source": [
    "#Decision Tree Classfier"
   ]
  },
  {
   "cell_type": "code",
   "execution_count": 25,
   "metadata": {},
   "outputs": [
    {
     "name": "stdout",
     "output_type": "stream",
     "text": [
      "\n",
      "\n",
      "Max Precision: 0.8312406994047619\n",
      "Max Recall: 0.8621185618608299\n",
      "Max fscore: 0.8442616474962239\n"
     ]
    }
   ],
   "source": [
    "decisiontree_classifier = tree.DecisionTreeClassifier()\n",
    "precision_list = []\n",
    "recall_list = []\n",
    "fscore_list = []\n",
    "for train_index, test_index in skf.split(train_data, target):\n",
    "    decisiontree_classifier.fit(train_data[train_index],target[train_index])\n",
    "    y_pred = decisiontree_classifier.predict(train_data[test_index])\n",
    "    precision,recall,fscore,support = precision_recall_fscore_support(target[test_index], y_pred, average='macro')\n",
    "    precision_list.append(precision)\n",
    "    recall_list.append(recall)\n",
    "    fscore_list.append(fscore)\n",
    "print(\"\\n\\nMax Precision: \"+ str(max(precision_list))+ \"\\nMax Recall: \" + str(max(recall_list))+ \"\\nMax fscore: \"+ str(max(fscore_list)))"
   ]
  },
  {
   "cell_type": "markdown",
   "metadata": {},
   "source": [
    "#Linear SVM:"
   ]
  },
  {
   "cell_type": "code",
   "execution_count": 30,
   "metadata": {},
   "outputs": [
    {
     "name": "stdout",
     "output_type": "stream",
     "text": [
      "\n",
      "\n",
      "Max Precision: 0.8253543753998297\n",
      "Max Recall: 0.8633502981843093\n",
      "Max fscore: 0.8367763039971321\n"
     ]
    }
   ],
   "source": [
    "svm_clf = svm.SVC(kernel = 'rbf', random_state = 1, gamma = 0.1, C = 10.0)\n",
    "precision_list = []\n",
    "recall_list = []\n",
    "fscore_list = []\n",
    "for train_index, test_index in skf.split(train_data, target):\n",
    "    svm_clf.fit(train_data[train_index],target[train_index])\n",
    "    y_pred = svm_clf.predict(train_data[test_index])\n",
    "    precision,recall,fscore,support = precision_recall_fscore_support(target[test_index], y_pred, average='macro')\n",
    "    precision_list.append(precision)\n",
    "    recall_list.append(recall)\n",
    "    fscore_list.append(fscore)\n",
    "print(\"\\n\\nMax Precision: \" + str(max(precision_list)) + \"\\nMax Recall: \" + str(max(recall_list)) + \"\\nMax fscore: \" + str(max(fscore_list)))"
   ]
  },
  {
   "cell_type": "markdown",
   "metadata": {},
   "source": [
    "#Linear Regression"
   ]
  },
  {
   "cell_type": "code",
   "execution_count": 26,
   "metadata": {},
   "outputs": [
    {
     "name": "stdout",
     "output_type": "stream",
     "text": [
      "\n",
      "\n",
      "Max Precision: 0.5505575400920302\n",
      "Max Recall: 0.905797970884358\n",
      "Max fscore: 0.5589782809606824\n"
     ]
    }
   ],
   "source": [
    "linreg = LinearRegression()\n",
    "precision_list = []\n",
    "recall_list = []\n",
    "fscore_list = []\n",
    "for train_index, test_index in skf.split(train_data, target):\n",
    "    linreg.fit(train_data[train_index],target[train_index])\n",
    "    y_pred = linreg.predict(train_data[test_index])\n",
    "    thresh = round(np.mean(y_pred), 2)\n",
    "    y_pred = np.where(y_pred > thresh, 1, 0)\n",
    "    precision,recall,fscore,support = precision_recall_fscore_support(target[test_index], y_pred, average='macro')\n",
    "    precision_list.append(precision)\n",
    "    recall_list.append(recall)\n",
    "    fscore_list.append(fscore)\n",
    "print(\"\\n\\nMax Precision: \" + str(max(precision_list)) + \"\\nMax Recall: \" + str(max(recall_list)) + \"\\nMax fscore: \" + str(max(fscore_list)))\n"
   ]
  },
  {
   "cell_type": "markdown",
   "metadata": {},
   "source": [
    "#Logistic Regresssion"
   ]
  },
  {
   "cell_type": "code",
   "execution_count": 20,
   "metadata": {},
   "outputs": [
    {
     "name": "stdout",
     "output_type": "stream",
     "text": [
      "\n",
      "\n",
      "Max Precision: 0.9276828371922088\n",
      "Max Recall: 0.6506795739274696\n",
      "Max fscore: 0.7148101250898973\n"
     ]
    }
   ],
   "source": [
    "logreg = LogisticRegression(C = 100.0, random_state = 1)\n",
    "precision_list = []\n",
    "recall_list = []\n",
    "fscore_list = []\n",
    "for train_index, test_index in skf.split(train_data, target):\n",
    "    logreg.fit(train_data[train_index],target[train_index])\n",
    "    y_pred = logreg.predict(train_data[test_index])\n",
    "    precision,recall,fscore,support = precision_recall_fscore_support(target[test_index], y_pred, average='macro')\n",
    "    precision_list.append(precision)\n",
    "    recall_list.append(recall)\n",
    "    fscore_list.append(fscore)\n",
    "print(\"\\n\\nMax Precision: \" + str(max(precision_list)) + \"\\nMax Recall: \" + str(max(recall_list)) + \"\\nMax fscore: \" + str(max(fscore_list)))"
   ]
  },
  {
   "cell_type": "markdown",
   "metadata": {},
   "source": [
    "#Random Forest"
   ]
  },
  {
   "cell_type": "code",
   "execution_count": 28,
   "metadata": {},
   "outputs": [
    {
     "name": "stdout",
     "output_type": "stream",
     "text": [
      "\n",
      "\n",
      "Max Precision: 0.8317550079317675\n",
      "Max Recall: 0.8621882191469821\n",
      "Max fscore: 0.8291422052286799\n"
     ]
    }
   ],
   "source": [
    "randomforest = RandomForestClassifier(random_state=1)\n",
    "precision_list = []\n",
    "recall_list = []\n",
    "fscore_list = []\n",
    "for train_index, test_index in skf.split(train_data, target):\n",
    "    randomforest.fit(train_data[train_index],target[train_index])\n",
    "    y_pred = randomforest.predict(train_data[test_index])\n",
    "    precision,recall,fscore,support = precision_recall_fscore_support(target[test_index], y_pred, average='macro')\n",
    "    precision_list.append(precision)\n",
    "    recall_list.append(recall)\n",
    "    fscore_list.append(fscore)\n",
    "print(\"\\n\\nMax Precision: \" + str(max(precision_list)) + \"\\nMax Recall: \" + str(max(recall_list)) + \"\\nMax fscore: \" + str(max(fscore_list)))"
   ]
  },
  {
   "cell_type": "markdown",
   "metadata": {},
   "source": [
    "#Best Classifier was Logistic Regression "
   ]
  },
  {
   "cell_type": "markdown",
   "metadata": {},
   "source": [
    "#Running Logistic Regression on TestSet"
   ]
  },
  {
   "cell_type": "code",
   "execution_count": 29,
   "metadata": {},
   "outputs": [
    {
     "name": "stdout",
     "output_type": "stream",
     "text": [
      "Precision on Test Set: 0.9193543846640266\n",
      "Recall on Test Set: 0.6398560040653727\n",
      "FScore on Test Set: 0.7080104161812235\n"
     ]
    }
   ],
   "source": [
    "logreg = LogisticRegression(C = 100.0, random_state=1)\n",
    "logreg.fit(train_data, target)\n",
    "y_pred = logreg.predict(test_data)\n",
    "precision, recall, fscore ,support = precision_recall_fscore_support(test_target, y_pred, average='macro')\n",
    "print(\"Precision on Test Set: \"+ str(precision) +\n",
    "      \"\\nRecall on Test Set: \"+ str(recall) +\n",
    "      \"\\nFScore on Test Set: \"+ str(fscore))"
   ]
  }
 ],
 "metadata": {
  "kernelspec": {
   "display_name": "Python 3",
   "language": "python",
   "name": "python3"
  },
  "language_info": {
   "codemirror_mode": {
    "name": "ipython",
    "version": 3
   },
   "file_extension": ".py",
   "mimetype": "text/x-python",
   "name": "python",
   "nbconvert_exporter": "python",
   "pygments_lexer": "ipython3",
   "version": "3.6.4"
  }
 },
 "nbformat": 4,
 "nbformat_minor": 2
}
