{
 "cells": [
  {
   "cell_type": "markdown",
   "metadata": {},
   "source": [
    "# Import DeepMatcher and load the DataSets"
   ]
  },
  {
   "cell_type": "code",
   "execution_count": 28,
   "metadata": {},
   "outputs": [],
   "source": [
    "import deepmatcher as dm\n",
    "train, validation, test = dm.data.process(path='data',\n",
    "    train='SET_I.csv', validation='set_val.csv', test='SET_J.csv')"
   ]
  },
  {
   "cell_type": "markdown",
   "metadata": {},
   "source": [
    "# View of some samples from the dataset"
   ]
  },
  {
   "cell_type": "code",
   "execution_count": 31,
   "metadata": {},
   "outputs": [
    {
     "data": {
      "text/html": [
       "<div>\n",
       "<style scoped>\n",
       "    .dataframe tbody tr th:only-of-type {\n",
       "        vertical-align: middle;\n",
       "    }\n",
       "\n",
       "    .dataframe tbody tr th {\n",
       "        vertical-align: top;\n",
       "    }\n",
       "\n",
       "    .dataframe thead th {\n",
       "        text-align: right;\n",
       "    }\n",
       "</style>\n",
       "<table border=\"1\" class=\"dataframe\">\n",
       "  <thead>\n",
       "    <tr style=\"text-align: right;\">\n",
       "      <th></th>\n",
       "      <th>id</th>\n",
       "      <th>left_ID</th>\n",
       "      <th>right_ID</th>\n",
       "      <th>left_Title</th>\n",
       "      <th>left_Artist</th>\n",
       "      <th>left_Genre</th>\n",
       "      <th>right_Title</th>\n",
       "      <th>right_Artist</th>\n",
       "      <th>right_Genre</th>\n",
       "      <th>label</th>\n",
       "    </tr>\n",
       "  </thead>\n",
       "  <tbody>\n",
       "    <tr>\n",
       "      <th>0</th>\n",
       "      <td>221</td>\n",
       "      <td>258</td>\n",
       "      <td>645</td>\n",
       "      <td>time flies : the best of huey lewis &amp;amp; the ...</td>\n",
       "      <td>huey lewis &amp;amp; the news</td>\n",
       "      <td>pop</td>\n",
       "      <td>the secret life of the veronicas</td>\n",
       "      <td>the veronicas</td>\n",
       "      <td>rock , pop</td>\n",
       "      <td>0</td>\n",
       "    </tr>\n",
       "    <tr>\n",
       "      <th>1</th>\n",
       "      <td>439</td>\n",
       "      <td>4157</td>\n",
       "      <td>803</td>\n",
       "      <td>the best of kc and the sunshine band &amp;#91; cd ...</td>\n",
       "      <td>kc &amp;amp; the sunshine band</td>\n",
       "      <td>pop</td>\n",
       "      <td>the beginning stages of ...</td>\n",
       "      <td>the polyphonic spree</td>\n",
       "      <td>indie , rock , pop</td>\n",
       "      <td>0</td>\n",
       "    </tr>\n",
       "    <tr>\n",
       "      <th>2</th>\n",
       "      <td>191</td>\n",
       "      <td>828</td>\n",
       "      <td>523</td>\n",
       "      <td>what if nothing &amp;#91; cd &amp;#93;</td>\n",
       "      <td>walk the moon</td>\n",
       "      <td>pop</td>\n",
       "      <td>we started nothing</td>\n",
       "      <td>the ting tings</td>\n",
       "      <td>rock , pop</td>\n",
       "      <td>0</td>\n",
       "    </tr>\n",
       "    <tr>\n",
       "      <th>3</th>\n",
       "      <td>239</td>\n",
       "      <td>2837</td>\n",
       "      <td>645</td>\n",
       "      <td>the very best of the righteous brothers : unch...</td>\n",
       "      <td>the righteous brothers</td>\n",
       "      <td>pop</td>\n",
       "      <td>the secret life of the veronicas</td>\n",
       "      <td>the veronicas</td>\n",
       "      <td>rock , pop</td>\n",
       "      <td>0</td>\n",
       "    </tr>\n",
       "    <tr>\n",
       "      <th>4</th>\n",
       "      <td>433</td>\n",
       "      <td>3674</td>\n",
       "      <td>803</td>\n",
       "      <td>the very best of frankie valli &amp;amp; the four ...</td>\n",
       "      <td>frankie valli &amp;amp; the four seasons</td>\n",
       "      <td>pop</td>\n",
       "      <td>the beginning stages of ...</td>\n",
       "      <td>the polyphonic spree</td>\n",
       "      <td>indie , rock , pop</td>\n",
       "      <td>0</td>\n",
       "    </tr>\n",
       "  </tbody>\n",
       "</table>\n",
       "</div>"
      ],
      "text/plain": [
       "    id left_ID right_ID                                         left_Title  \\\n",
       "0  221     258      645  time flies : the best of huey lewis &amp; the ...   \n",
       "1  439    4157      803  the best of kc and the sunshine band &#91; cd ...   \n",
       "2  191     828      523                     what if nothing &#91; cd &#93;   \n",
       "3  239    2837      645  the very best of the righteous brothers : unch...   \n",
       "4  433    3674      803  the very best of frankie valli &amp; the four ...   \n",
       "\n",
       "                            left_Artist left_Genre  \\\n",
       "0             huey lewis &amp; the news        pop   \n",
       "1            kc &amp; the sunshine band        pop   \n",
       "2                         walk the moon        pop   \n",
       "3                the righteous brothers        pop   \n",
       "4  frankie valli &amp; the four seasons        pop   \n",
       "\n",
       "                        right_Title          right_Artist         right_Genre  \\\n",
       "0  the secret life of the veronicas         the veronicas          rock , pop   \n",
       "1       the beginning stages of ...  the polyphonic spree  indie , rock , pop   \n",
       "2                we started nothing        the ting tings          rock , pop   \n",
       "3  the secret life of the veronicas         the veronicas          rock , pop   \n",
       "4       the beginning stages of ...  the polyphonic spree  indie , rock , pop   \n",
       "\n",
       "   label  \n",
       "0      0  \n",
       "1      0  \n",
       "2      0  \n",
       "3      0  \n",
       "4      0  "
      ]
     },
     "execution_count": 31,
     "metadata": {},
     "output_type": "execute_result"
    }
   ],
   "source": [
    "train_table = train.get_raw_table()\n",
    "train_table.head()"
   ]
  },
  {
   "cell_type": "markdown",
   "metadata": {},
   "source": [
    "# Model Definition : Using the default built-in architecture"
   ]
  },
  {
   "cell_type": "code",
   "execution_count": 29,
   "metadata": {},
   "outputs": [],
   "source": [
    "model = dm.MatchingModel()"
   ]
  },
  {
   "cell_type": "markdown",
   "metadata": {},
   "source": [
    "# Model training: Train neural network."
   ]
  },
  {
   "cell_type": "code",
   "execution_count": 30,
   "metadata": {
    "scrolled": false
   },
   "outputs": [
    {
     "name": "stdout",
     "output_type": "stream",
     "text": [
      "* Number of trainable parameters: 9210006\n",
      "===>  TRAIN Epoch 1 :\n"
     ]
    },
    {
     "name": "stderr",
     "output_type": "stream",
     "text": [
      "0% [██] 100% | ETA: 00:00:00\n",
      "Total time elapsed: 00:00:10\n"
     ]
    },
    {
     "name": "stdout",
     "output_type": "stream",
     "text": [
      "Finished Epoch 1 || Run Time:   10.9 | Load Time:    0.0 || F1:   0.00 | Prec:   0.00 | Rec:   0.00 || Ex/s:  28.71\n",
      "\n",
      "===>  EVAL Epoch 1 :\n",
      "Finished Epoch 1 || Run Time:    0.8 | Load Time:    0.0 || F1:   0.00 | Prec:   0.00 | Rec:   0.00 || Ex/s:  64.35\n",
      "\n",
      "* Best F1: 0.0\n",
      "Saving best model...\n",
      "===>  TRAIN Epoch 2 :\n"
     ]
    },
    {
     "name": "stderr",
     "output_type": "stream",
     "text": [
      "0% [██] 100% | ETA: 00:00:00\n",
      "Total time elapsed: 00:00:10\n"
     ]
    },
    {
     "name": "stdout",
     "output_type": "stream",
     "text": [
      "Finished Epoch 2 || Run Time:   10.8 | Load Time:    0.0 || F1:   0.00 | Prec:   0.00 | Rec:   0.00 || Ex/s:  29.18\n",
      "\n",
      "===>  EVAL Epoch 2 :\n",
      "Finished Epoch 2 || Run Time:    0.5 | Load Time:    0.0 || F1:   0.00 | Prec:   0.00 | Rec:   0.00 || Ex/s:  95.69\n",
      "\n",
      "===>  TRAIN Epoch 3 :\n"
     ]
    },
    {
     "name": "stderr",
     "output_type": "stream",
     "text": [
      "0% [██] 100% | ETA: 00:00:00\n",
      "Total time elapsed: 00:00:10\n"
     ]
    },
    {
     "name": "stdout",
     "output_type": "stream",
     "text": [
      "Finished Epoch 3 || Run Time:   10.8 | Load Time:    0.0 || F1:  16.22 | Prec: 100.00 | Rec:   8.82 || Ex/s:  28.99\n",
      "\n",
      "===>  EVAL Epoch 3 :\n",
      "Finished Epoch 3 || Run Time:    0.6 | Load Time:    0.0 || F1:  88.89 | Prec: 100.00 | Rec:  80.00 || Ex/s:  90.87\n",
      "\n",
      "* Best F1: 88.88888888888889\n",
      "Saving best model...\n",
      "===>  TRAIN Epoch 4 :\n"
     ]
    },
    {
     "name": "stderr",
     "output_type": "stream",
     "text": [
      "0% [██] 100% | ETA: 00:00:00\n",
      "Total time elapsed: 00:00:10\n"
     ]
    },
    {
     "name": "stdout",
     "output_type": "stream",
     "text": [
      "Finished Epoch 4 || Run Time:   10.8 | Load Time:    0.0 || F1:  89.23 | Prec:  93.55 | Rec:  85.29 || Ex/s:  29.00\n",
      "\n",
      "===>  EVAL Epoch 4 :\n",
      "Finished Epoch 4 || Run Time:    0.6 | Load Time:    0.0 || F1:  88.89 | Prec: 100.00 | Rec:  80.00 || Ex/s:  87.78\n",
      "\n",
      "===>  TRAIN Epoch 5 :\n"
     ]
    },
    {
     "name": "stderr",
     "output_type": "stream",
     "text": [
      "0% [██] 100% | ETA: 00:00:00\n",
      "Total time elapsed: 00:00:10\n"
     ]
    },
    {
     "name": "stdout",
     "output_type": "stream",
     "text": [
      "Finished Epoch 5 || Run Time:   10.9 | Load Time:    0.0 || F1:  90.91 | Prec:  93.75 | Rec:  88.24 || Ex/s:  28.85\n",
      "\n",
      "===>  EVAL Epoch 5 :\n",
      "Finished Epoch 5 || Run Time:    0.6 | Load Time:    0.0 || F1:  88.89 | Prec: 100.00 | Rec:  80.00 || Ex/s:  91.77\n",
      "\n",
      "===>  TRAIN Epoch 6 :\n"
     ]
    },
    {
     "name": "stderr",
     "output_type": "stream",
     "text": [
      "0% [██] 100% | ETA: 00:00:00\n",
      "Total time elapsed: 00:00:10\n"
     ]
    },
    {
     "name": "stdout",
     "output_type": "stream",
     "text": [
      "Finished Epoch 6 || Run Time:   10.9 | Load Time:    0.0 || F1:  90.91 | Prec:  93.75 | Rec:  88.24 || Ex/s:  28.81\n",
      "\n",
      "===>  EVAL Epoch 6 :\n",
      "Finished Epoch 6 || Run Time:    0.6 | Load Time:    0.0 || F1:  88.89 | Prec: 100.00 | Rec:  80.00 || Ex/s:  91.87\n",
      "\n",
      "===>  TRAIN Epoch 7 :\n"
     ]
    },
    {
     "name": "stderr",
     "output_type": "stream",
     "text": [
      "0% [██] 100% | ETA: 00:00:00\n",
      "Total time elapsed: 00:00:09\n"
     ]
    },
    {
     "name": "stdout",
     "output_type": "stream",
     "text": [
      "Finished Epoch 7 || Run Time:   10.4 | Load Time:    0.0 || F1:  93.94 | Prec:  96.88 | Rec:  91.18 || Ex/s:  30.12\n",
      "\n",
      "===>  EVAL Epoch 7 :\n",
      "Finished Epoch 7 || Run Time:    0.5 | Load Time:    0.0 || F1:  88.89 | Prec: 100.00 | Rec:  80.00 || Ex/s:  94.35\n",
      "\n",
      "===>  TRAIN Epoch 8 :\n"
     ]
    },
    {
     "name": "stderr",
     "output_type": "stream",
     "text": [
      "0% [██] 100% | ETA: 00:00:00\n",
      "Total time elapsed: 00:00:10\n"
     ]
    },
    {
     "name": "stdout",
     "output_type": "stream",
     "text": [
      "Finished Epoch 8 || Run Time:   11.1 | Load Time:    0.0 || F1:  98.55 | Prec:  97.14 | Rec: 100.00 || Ex/s:  28.36\n",
      "\n",
      "===>  EVAL Epoch 8 :\n",
      "Finished Epoch 8 || Run Time:    0.5 | Load Time:    0.0 || F1: 100.00 | Prec: 100.00 | Rec: 100.00 || Ex/s:  95.75\n",
      "\n",
      "* Best F1: 100.0\n",
      "Saving best model...\n",
      "===>  TRAIN Epoch 9 :\n"
     ]
    },
    {
     "name": "stderr",
     "output_type": "stream",
     "text": [
      "0% [██] 100% | ETA: 00:00:00\n",
      "Total time elapsed: 00:00:10\n"
     ]
    },
    {
     "name": "stdout",
     "output_type": "stream",
     "text": [
      "Finished Epoch 9 || Run Time:   10.8 | Load Time:    0.0 || F1:  98.55 | Prec:  97.14 | Rec: 100.00 || Ex/s:  29.16\n",
      "\n",
      "===>  EVAL Epoch 9 :\n",
      "Finished Epoch 9 || Run Time:    0.6 | Load Time:    0.0 || F1: 100.00 | Prec: 100.00 | Rec: 100.00 || Ex/s:  91.60\n",
      "\n",
      "===>  TRAIN Epoch 10 :\n"
     ]
    },
    {
     "name": "stderr",
     "output_type": "stream",
     "text": [
      "0% [██] 100% | ETA: 00:00:00\n",
      "Total time elapsed: 00:00:09\n"
     ]
    },
    {
     "name": "stdout",
     "output_type": "stream",
     "text": [
      "Finished Epoch 10 || Run Time:   10.7 | Load Time:    0.0 || F1:  98.55 | Prec:  97.14 | Rec: 100.00 || Ex/s:  29.44\n",
      "\n",
      "===>  EVAL Epoch 10 :\n",
      "Finished Epoch 10 || Run Time:    0.6 | Load Time:    0.0 || F1: 100.00 | Prec: 100.00 | Rec: 100.00 || Ex/s:  85.72\n",
      "\n",
      "===>  TRAIN Epoch 11 :\n"
     ]
    },
    {
     "name": "stderr",
     "output_type": "stream",
     "text": [
      "0% [██] 100% | ETA: 00:00:00\n",
      "Total time elapsed: 00:00:09\n"
     ]
    },
    {
     "name": "stdout",
     "output_type": "stream",
     "text": [
      "Finished Epoch 11 || Run Time:   10.5 | Load Time:    0.0 || F1:  98.55 | Prec:  97.14 | Rec: 100.00 || Ex/s:  29.85\n",
      "\n",
      "===>  EVAL Epoch 11 :\n",
      "Finished Epoch 11 || Run Time:    0.5 | Load Time:    0.0 || F1: 100.00 | Prec: 100.00 | Rec: 100.00 || Ex/s:  93.66\n",
      "\n",
      "===>  TRAIN Epoch 12 :\n"
     ]
    },
    {
     "name": "stderr",
     "output_type": "stream",
     "text": [
      "0% [██] 100% | ETA: 00:00:00\n",
      "Total time elapsed: 00:00:09\n"
     ]
    },
    {
     "name": "stdout",
     "output_type": "stream",
     "text": [
      "Finished Epoch 12 || Run Time:   10.5 | Load Time:    0.0 || F1:  98.55 | Prec:  97.14 | Rec: 100.00 || Ex/s:  30.04\n",
      "\n",
      "===>  EVAL Epoch 12 :\n",
      "Finished Epoch 12 || Run Time:    0.6 | Load Time:    0.0 || F1: 100.00 | Prec: 100.00 | Rec: 100.00 || Ex/s:  92.15\n",
      "\n",
      "===>  TRAIN Epoch 13 :\n"
     ]
    },
    {
     "name": "stderr",
     "output_type": "stream",
     "text": [
      "0% [██] 100% | ETA: 00:00:00\n",
      "Total time elapsed: 00:00:10\n"
     ]
    },
    {
     "name": "stdout",
     "output_type": "stream",
     "text": [
      "Finished Epoch 13 || Run Time:   11.0 | Load Time:    0.0 || F1:  98.55 | Prec:  97.14 | Rec: 100.00 || Ex/s:  28.64\n",
      "\n",
      "===>  EVAL Epoch 13 :\n",
      "Finished Epoch 13 || Run Time:    0.6 | Load Time:    0.0 || F1: 100.00 | Prec: 100.00 | Rec: 100.00 || Ex/s:  87.70\n",
      "\n",
      "===>  TRAIN Epoch 14 :\n"
     ]
    },
    {
     "name": "stderr",
     "output_type": "stream",
     "text": [
      "0% [██] 100% | ETA: 00:00:00\n",
      "Total time elapsed: 00:00:10\n"
     ]
    },
    {
     "name": "stdout",
     "output_type": "stream",
     "text": [
      "Finished Epoch 14 || Run Time:   10.9 | Load Time:    0.0 || F1:  98.55 | Prec:  97.14 | Rec: 100.00 || Ex/s:  28.78\n",
      "\n",
      "===>  EVAL Epoch 14 :\n",
      "Finished Epoch 14 || Run Time:    0.6 | Load Time:    0.0 || F1: 100.00 | Prec: 100.00 | Rec: 100.00 || Ex/s:  82.61\n",
      "\n",
      "===>  TRAIN Epoch 15 :\n"
     ]
    },
    {
     "name": "stderr",
     "output_type": "stream",
     "text": [
      "0% [██] 100% | ETA: 00:00:00\n",
      "Total time elapsed: 00:00:10\n"
     ]
    },
    {
     "name": "stdout",
     "output_type": "stream",
     "text": [
      "Finished Epoch 15 || Run Time:   11.3 | Load Time:    0.0 || F1:  98.55 | Prec:  97.14 | Rec: 100.00 || Ex/s:  27.91\n",
      "\n",
      "===>  EVAL Epoch 15 :\n",
      "Finished Epoch 15 || Run Time:    0.6 | Load Time:    0.0 || F1: 100.00 | Prec: 100.00 | Rec: 100.00 || Ex/s:  81.52\n",
      "\n",
      "===>  TRAIN Epoch 16 :\n"
     ]
    },
    {
     "name": "stderr",
     "output_type": "stream",
     "text": [
      "0% [██] 100% | ETA: 00:00:00\n",
      "Total time elapsed: 00:00:10\n"
     ]
    },
    {
     "name": "stdout",
     "output_type": "stream",
     "text": [
      "Finished Epoch 16 || Run Time:   11.5 | Load Time:    0.0 || F1:  98.55 | Prec:  97.14 | Rec: 100.00 || Ex/s:  27.42\n",
      "\n",
      "===>  EVAL Epoch 16 :\n",
      "Finished Epoch 16 || Run Time:    0.6 | Load Time:    0.0 || F1: 100.00 | Prec: 100.00 | Rec: 100.00 || Ex/s:  85.12\n",
      "\n",
      "===>  TRAIN Epoch 17 :\n"
     ]
    },
    {
     "name": "stderr",
     "output_type": "stream",
     "text": [
      "0% [██] 100% | ETA: 00:00:00\n",
      "Total time elapsed: 00:00:10\n"
     ]
    },
    {
     "name": "stdout",
     "output_type": "stream",
     "text": [
      "Finished Epoch 17 || Run Time:   11.0 | Load Time:    0.0 || F1:  98.55 | Prec:  97.14 | Rec: 100.00 || Ex/s:  28.51\n",
      "\n",
      "===>  EVAL Epoch 17 :\n",
      "Finished Epoch 17 || Run Time:    0.6 | Load Time:    0.0 || F1: 100.00 | Prec: 100.00 | Rec: 100.00 || Ex/s:  92.56\n",
      "\n",
      "===>  TRAIN Epoch 18 :\n"
     ]
    },
    {
     "name": "stderr",
     "output_type": "stream",
     "text": [
      "0% [██] 100% | ETA: 00:00:00\n",
      "Total time elapsed: 00:00:09\n"
     ]
    },
    {
     "name": "stdout",
     "output_type": "stream",
     "text": [
      "Finished Epoch 18 || Run Time:   10.6 | Load Time:    0.0 || F1:  98.55 | Prec:  97.14 | Rec: 100.00 || Ex/s:  29.73\n",
      "\n",
      "===>  EVAL Epoch 18 :\n",
      "Finished Epoch 18 || Run Time:    0.6 | Load Time:    0.0 || F1: 100.00 | Prec: 100.00 | Rec: 100.00 || Ex/s:  92.00\n",
      "\n",
      "===>  TRAIN Epoch 19 :\n"
     ]
    },
    {
     "name": "stderr",
     "output_type": "stream",
     "text": [
      "0% [██] 100% | ETA: 00:00:00\n",
      "Total time elapsed: 00:00:10\n"
     ]
    },
    {
     "name": "stdout",
     "output_type": "stream",
     "text": [
      "Finished Epoch 19 || Run Time:   11.1 | Load Time:    0.0 || F1:  98.55 | Prec:  97.14 | Rec: 100.00 || Ex/s:  28.22\n",
      "\n",
      "===>  EVAL Epoch 19 :\n",
      "Finished Epoch 19 || Run Time:    0.6 | Load Time:    0.0 || F1: 100.00 | Prec: 100.00 | Rec: 100.00 || Ex/s:  88.75\n",
      "\n",
      "===>  TRAIN Epoch 20 :\n"
     ]
    },
    {
     "name": "stderr",
     "output_type": "stream",
     "text": [
      "0% [██] 100% | ETA: 00:00:00\n",
      "Total time elapsed: 00:00:09\n"
     ]
    },
    {
     "name": "stdout",
     "output_type": "stream",
     "text": [
      "Finished Epoch 20 || Run Time:   10.6 | Load Time:    0.0 || F1:  98.55 | Prec:  97.14 | Rec: 100.00 || Ex/s:  29.62\n",
      "\n",
      "===>  EVAL Epoch 20 :\n",
      "Finished Epoch 20 || Run Time:    0.5 | Load Time:    0.0 || F1: 100.00 | Prec: 100.00 | Rec: 100.00 || Ex/s:  94.65\n",
      "\n",
      "===>  TRAIN Epoch 21 :\n"
     ]
    },
    {
     "name": "stderr",
     "output_type": "stream",
     "text": [
      "0% [██] 100% | ETA: 00:00:00\n",
      "Total time elapsed: 00:00:09\n"
     ]
    },
    {
     "name": "stdout",
     "output_type": "stream",
     "text": [
      "Finished Epoch 21 || Run Time:   10.2 | Load Time:    0.0 || F1:  98.55 | Prec:  97.14 | Rec: 100.00 || Ex/s:  30.84\n",
      "\n",
      "===>  EVAL Epoch 21 :\n",
      "Finished Epoch 21 || Run Time:    0.5 | Load Time:    0.0 || F1: 100.00 | Prec: 100.00 | Rec: 100.00 || Ex/s:  95.37\n",
      "\n",
      "===>  TRAIN Epoch 22 :\n"
     ]
    },
    {
     "name": "stderr",
     "output_type": "stream",
     "text": [
      "0% [██] 100% | ETA: 00:00:00\n",
      "Total time elapsed: 00:00:10\n"
     ]
    },
    {
     "name": "stdout",
     "output_type": "stream",
     "text": [
      "Finished Epoch 22 || Run Time:   10.8 | Load Time:    0.0 || F1: 100.00 | Prec: 100.00 | Rec: 100.00 || Ex/s:  29.21\n",
      "\n",
      "===>  EVAL Epoch 22 :\n",
      "Finished Epoch 22 || Run Time:    0.5 | Load Time:    0.0 || F1: 100.00 | Prec: 100.00 | Rec: 100.00 || Ex/s:  94.16\n",
      "\n",
      "===>  TRAIN Epoch 23 :\n"
     ]
    },
    {
     "name": "stderr",
     "output_type": "stream",
     "text": [
      "0% [██] 100% | ETA: 00:00:00\n",
      "Total time elapsed: 00:00:10\n"
     ]
    },
    {
     "name": "stdout",
     "output_type": "stream",
     "text": [
      "Finished Epoch 23 || Run Time:   11.2 | Load Time:    0.0 || F1: 100.00 | Prec: 100.00 | Rec: 100.00 || Ex/s:  27.92\n",
      "\n",
      "===>  EVAL Epoch 23 :\n",
      "Finished Epoch 23 || Run Time:    0.6 | Load Time:    0.0 || F1: 100.00 | Prec: 100.00 | Rec: 100.00 || Ex/s:  87.19\n",
      "\n",
      "===>  TRAIN Epoch 24 :\n"
     ]
    },
    {
     "name": "stderr",
     "output_type": "stream",
     "text": [
      "0% [██] 100% | ETA: 00:00:00\n",
      "Total time elapsed: 00:00:10\n"
     ]
    },
    {
     "name": "stdout",
     "output_type": "stream",
     "text": [
      "Finished Epoch 24 || Run Time:   11.2 | Load Time:    0.0 || F1: 100.00 | Prec: 100.00 | Rec: 100.00 || Ex/s:  28.01\n",
      "\n",
      "===>  EVAL Epoch 24 :\n",
      "Finished Epoch 24 || Run Time:    0.6 | Load Time:    0.0 || F1: 100.00 | Prec: 100.00 | Rec: 100.00 || Ex/s:  89.27\n",
      "\n",
      "===>  TRAIN Epoch 25 :\n"
     ]
    },
    {
     "name": "stderr",
     "output_type": "stream",
     "text": [
      "0% [██] 100% | ETA: 00:00:00\n",
      "Total time elapsed: 00:00:09\n"
     ]
    },
    {
     "name": "stdout",
     "output_type": "stream",
     "text": [
      "Finished Epoch 25 || Run Time:   10.6 | Load Time:    0.0 || F1: 100.00 | Prec: 100.00 | Rec: 100.00 || Ex/s:  29.56\n",
      "\n",
      "===>  EVAL Epoch 25 :\n",
      "Finished Epoch 25 || Run Time:    0.6 | Load Time:    0.0 || F1: 100.00 | Prec: 100.00 | Rec: 100.00 || Ex/s:  81.39\n",
      "\n",
      "===>  TRAIN Epoch 26 :\n"
     ]
    },
    {
     "name": "stderr",
     "output_type": "stream",
     "text": [
      "0% [██] 100% | ETA: 00:00:00\n",
      "Total time elapsed: 00:00:09\n"
     ]
    },
    {
     "name": "stdout",
     "output_type": "stream",
     "text": [
      "Finished Epoch 26 || Run Time:   10.4 | Load Time:    0.0 || F1: 100.00 | Prec: 100.00 | Rec: 100.00 || Ex/s:  30.27\n",
      "\n",
      "===>  EVAL Epoch 26 :\n",
      "Finished Epoch 26 || Run Time:    0.5 | Load Time:    0.0 || F1: 100.00 | Prec: 100.00 | Rec: 100.00 || Ex/s:  95.06\n",
      "\n",
      "===>  TRAIN Epoch 27 :\n"
     ]
    },
    {
     "name": "stderr",
     "output_type": "stream",
     "text": [
      "0% [██] 100% | ETA: 00:00:00\n",
      "Total time elapsed: 00:00:09\n"
     ]
    },
    {
     "name": "stdout",
     "output_type": "stream",
     "text": [
      "Finished Epoch 27 || Run Time:   10.3 | Load Time:    0.0 || F1: 100.00 | Prec: 100.00 | Rec: 100.00 || Ex/s:  30.54\n",
      "\n",
      "===>  EVAL Epoch 27 :\n",
      "Finished Epoch 27 || Run Time:    0.5 | Load Time:    0.0 || F1: 100.00 | Prec: 100.00 | Rec: 100.00 || Ex/s:  95.01\n",
      "\n",
      "===>  TRAIN Epoch 28 :\n"
     ]
    },
    {
     "name": "stderr",
     "output_type": "stream",
     "text": [
      "0% [██] 100% | ETA: 00:00:00\n",
      "Total time elapsed: 00:00:09\n"
     ]
    },
    {
     "name": "stdout",
     "output_type": "stream",
     "text": [
      "Finished Epoch 28 || Run Time:   10.3 | Load Time:    0.0 || F1: 100.00 | Prec: 100.00 | Rec: 100.00 || Ex/s:  30.47\n",
      "\n",
      "===>  EVAL Epoch 28 :\n",
      "Finished Epoch 28 || Run Time:    0.6 | Load Time:    0.0 || F1: 100.00 | Prec: 100.00 | Rec: 100.00 || Ex/s:  88.96\n",
      "\n",
      "===>  TRAIN Epoch 29 :\n"
     ]
    },
    {
     "name": "stderr",
     "output_type": "stream",
     "text": [
      "0% [██] 100% | ETA: 00:00:00\n",
      "Total time elapsed: 00:00:09\n"
     ]
    },
    {
     "name": "stdout",
     "output_type": "stream",
     "text": [
      "Finished Epoch 29 || Run Time:   10.2 | Load Time:    0.0 || F1: 100.00 | Prec: 100.00 | Rec: 100.00 || Ex/s:  30.82\n",
      "\n",
      "===>  EVAL Epoch 29 :\n",
      "Finished Epoch 29 || Run Time:    0.5 | Load Time:    0.0 || F1: 100.00 | Prec: 100.00 | Rec: 100.00 || Ex/s:  95.06\n",
      "\n",
      "===>  TRAIN Epoch 30 :\n"
     ]
    },
    {
     "name": "stderr",
     "output_type": "stream",
     "text": [
      "0% [██] 100% | ETA: 00:00:00\n",
      "Total time elapsed: 00:00:09\n"
     ]
    },
    {
     "name": "stdout",
     "output_type": "stream",
     "text": [
      "Finished Epoch 30 || Run Time:   10.2 | Load Time:    0.0 || F1: 100.00 | Prec: 100.00 | Rec: 100.00 || Ex/s:  30.86\n",
      "\n",
      "===>  EVAL Epoch 30 :\n",
      "Finished Epoch 30 || Run Time:    0.5 | Load Time:    0.0 || F1: 100.00 | Prec: 100.00 | Rec: 100.00 || Ex/s: 100.29\n",
      "\n",
      "Loading best model...\n"
     ]
    }
   ],
   "source": [
    "model.run_train(train, validation, best_save_path='hybrid_model.pth')"
   ]
  },
  {
   "cell_type": "markdown",
   "metadata": {},
   "source": [
    "## Evaluate model on train set"
   ]
  },
  {
   "cell_type": "code",
   "execution_count": 34,
   "metadata": {},
   "outputs": [
    {
     "name": "stdout",
     "output_type": "stream",
     "text": [
      "===>  EVAL Epoch 8 :\n"
     ]
    },
    {
     "name": "stderr",
     "output_type": "stream",
     "text": [
      "0% [██] 100% | ETA: 00:00:00\n",
      "Total time elapsed: 00:00:03\n"
     ]
    },
    {
     "name": "stdout",
     "output_type": "stream",
     "text": [
      "Finished Epoch 8 || Run Time:    3.0 | Load Time:    0.0 || F1:  98.55 | Prec:  97.14 | Rec: 100.00 || Ex/s: 103.96\n",
      "\n"
     ]
    },
    {
     "data": {
      "text/plain": [
       "98.55072463768116"
      ]
     },
     "execution_count": 34,
     "metadata": {},
     "output_type": "execute_result"
    }
   ],
   "source": [
    "model.run_eval(train)"
   ]
  },
  {
   "cell_type": "markdown",
   "metadata": {},
   "source": [
    "## Evaluate model on Validation set"
   ]
  },
  {
   "cell_type": "code",
   "execution_count": 35,
   "metadata": {},
   "outputs": [
    {
     "name": "stdout",
     "output_type": "stream",
     "text": [
      "===>  EVAL Epoch 8 :\n",
      "Finished Epoch 8 || Run Time:    0.6 | Load Time:    0.0 || F1: 100.00 | Prec: 100.00 | Rec: 100.00 || Ex/s:  89.04\n",
      "\n"
     ]
    },
    {
     "data": {
      "text/plain": [
       "100.0"
      ]
     },
     "execution_count": 35,
     "metadata": {},
     "output_type": "execute_result"
    }
   ],
   "source": [
    "model.run_eval(validation)"
   ]
  },
  {
   "cell_type": "markdown",
   "metadata": {},
   "source": [
    "# Evaluate model on Test set"
   ]
  },
  {
   "cell_type": "code",
   "execution_count": 37,
   "metadata": {},
   "outputs": [
    {
     "name": "stdout",
     "output_type": "stream",
     "text": [
      "===>  EVAL Epoch 8 :\n"
     ]
    },
    {
     "name": "stderr",
     "output_type": "stream",
     "text": [
      "0% [█] 100% | ETA: 00:00:00\n",
      "Total time elapsed: 00:00:01\n"
     ]
    },
    {
     "name": "stdout",
     "output_type": "stream",
     "text": [
      "Finished Epoch 8 || Run Time:    1.4 | Load Time:    0.0 || F1:  83.72 | Prec:  85.71 | Rec:  81.82 || Ex/s:  93.96\n",
      "\n"
     ]
    },
    {
     "data": {
      "text/plain": [
       "83.72093023255813"
      ]
     },
     "execution_count": 37,
     "metadata": {},
     "output_type": "execute_result"
    }
   ],
   "source": [
    "model.run_eval(test)"
   ]
  },
  {
   "cell_type": "code",
   "execution_count": null,
   "metadata": {},
   "outputs": [],
   "source": []
  }
 ],
 "metadata": {
  "kernelspec": {
   "display_name": "Python 3",
   "language": "python",
   "name": "python3"
  },
  "language_info": {
   "codemirror_mode": {
    "name": "ipython",
    "version": 3
   },
   "file_extension": ".py",
   "mimetype": "text/x-python",
   "name": "python",
   "nbconvert_exporter": "python",
   "pygments_lexer": "ipython3",
   "version": "3.6.3"
  }
 },
 "nbformat": 4,
 "nbformat_minor": 2
}
